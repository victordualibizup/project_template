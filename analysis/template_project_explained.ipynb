{
 "cells": [
  {
   "cell_type": "markdown",
   "id": "38337ecc",
   "metadata": {},
   "source": [
    "# Project Template Applied Use Case\n",
    "\n",
    "This notebook aims to demonstrate the discovery stage of a data scientist from obtaining the data to generating the final model.\n",
    "\n",
    "### 1. Introduction\n",
    "\n",
    "In a note, the notebooks in this analysis folder need to demonstrate any kind of experimentation, data analysis, and insights that allow others to understand the processes created in this project. In this case, we'll only use feature engineering and model generation. Data Scientists can feel free to create notebooks in any number of ways they feel like.\n",
    "\n",
    "For this exercise, we shall use data from Kaggle's \"House Prices - Advanced Regression Techniques\" challenge.\n",
    "\n",
    "Ref.: https://www.kaggle.com/c/house-prices-advanced-regression-techniques\n",
    "\n",
    "### 2. Motivation\n",
    "\n",
    "Among the purpose of this notebook we can list the following points:\n",
    "\n",
    "- To carry out the construction of a model through fast feature engineering,\n",
    "\n",
    "- Be used as a reference when producing the code in the template.\n",
    "\n",
    "Note how each piece of code presented here will be translated and modularized in each script within this template.\n",
    "\n",
    "### 3. Use Case\n",
    "\n",
    "From this point, let's exercise a quickly model development using feature engineering.\n",
    "The focus of this challenge is to predict the sale price of a house using a number of explainable variables.\n",
    "\n",
    "As have been said before, it's not the objective of this notebook to make data analysis, such as statistical tests and data visualisation for insight generation.\n",
    "\n",
    "#### 3.1 Virtual Environment as a Jupyter Notebook Kernel\n",
    "\n",
    "If you notice, this notebook's kernel isn't \"Python 3\". It's \"project_template\". It's best practice to use virtual envs as kernels to ensure one more layer of reproducibility in your project.\n",
    "\n",
    "- For Linux users (Ref.: https://queirozf.com/entries/jupyter-kernels-how-to-add-change-remove)\n",
    "- For Windows users (Ref.: https://towardsdatascience.com/python-virtual-environments-jupyter-notebook-bb5820d11da8)"
   ]
  },
  {
   "cell_type": "code",
   "execution_count": 1,
   "id": "abfb9892",
   "metadata": {
    "scrolled": true
   },
   "outputs": [
    {
     "data": {
      "text/plain": [
       "True"
      ]
     },
     "execution_count": 1,
     "metadata": {},
     "output_type": "execute_result"
    }
   ],
   "source": [
    "import os\n",
    "import boto3\n",
    "import pandas as pd\n",
    "import numpy as np\n",
    "from io import StringIO\n",
    "\n",
    "from sklearn import metrics\n",
    "from sklearn.preprocessing import StandardScaler\n",
    "from sklearn.ensemble import RandomForestRegressor\n",
    "from sklearn.model_selection import train_test_split\n",
    "from dotenv import load_dotenv\n",
    "\n",
    "from houses_regression import aws_resources\n",
    "\n",
    "load_dotenv()"
   ]
  },
  {
   "cell_type": "markdown",
   "id": "b4590017",
   "metadata": {},
   "source": [
    "#### 3.2 dotenv\n",
    "\n",
    "Credentials **MUST NOT BE** explicit in any type of code. One of the good practices adopted in the community is to create a .env text file and fill it with sensitive info. Using dotenv requires this file to be created in the root directory (Ref.: https://pypi.org/project/python-dotenv/)\n",
    "\n",
    "Inside the .env you should create variables in bash style. These variables are called environment variables.\n",
    "\n",
    "- AWS_ACCESS_KEY_ID=AWSACCESSID123\n",
    "- AWS_SECRET_ACCESS_KEY=AWSSECRETACCESSKEY456\n",
    "- REGION_NAME=us-east-1"
   ]
  },
  {
   "cell_type": "code",
   "execution_count": 2,
   "id": "17e8912a",
   "metadata": {},
   "outputs": [],
   "source": [
    "aws_access_key_id = os.getenv(\"AWS_ACCESS_KEY_ID\")\n",
    "aws_secret_access_key = os.getenv(\"AWS_SECRET_ACCESS_KEY\")\n",
    "aws_session_token = os.getenv(\"AWS_SESSION_TOKEN\")\n",
    "region_name = os.getenv(\"REGION_NAME\")\n",
    "\n",
    "s3 = boto3.client(\n",
    "    's3',\n",
    "    aws_access_key_id=aws_access_key_id,\n",
    "    aws_secret_access_key=aws_secret_access_key,\n",
    "    aws_session_token=aws_session_token,\n",
    "    region_name=region_name\n",
    ")"
   ]
  },
  {
   "cell_type": "markdown",
   "id": "5368cc7c",
   "metadata": {},
   "source": [
    "#### 3.3 Feature Engineering\n",
    "\n",
    "**Importante Note:** It's ok if you do not agree with the engineering below. The idea is the transformation itself, translated to production code.\n",
    "\n",
    "The __create_dataframe_from_s3__ is a custom function created to generate a pd.DataFrame from a csv stored in a AWS S3 bucket. You can see how it was created inside the folder \"houses_regression\". Look for a .py file called \"aws_resources\".\n",
    "\n",
    "- **Soft. Engineer tip**: Refrain from using \"df\" when calling or creating a dataframe. Try to be extremely explicit about the objects and variables you are creating from now on. Even though df is a common nomenclature, good practices require the code to be explainable from itself without abbreviations. Instead of using df, my train data is called \"data_train\". Ref.: https://www.castsoftware.com/glossary/coding-in-software-engineering-best-practices-good-standards"
   ]
  },
  {
   "cell_type": "code",
   "execution_count": 3,
   "id": "f9550b23",
   "metadata": {},
   "outputs": [],
   "source": [
    "bucket = \"testebella\"\n",
    "train_file_name = \"houses_train.csv\"\n",
    "test_file_name = \"houses_test.csv\"\n",
    "\n",
    "# data_train = aws_resources.create_dataframe_from_s3(bucket=bucket, key=train_file_name)\n",
    "# data_test = aws_resources.create_dataframe_from_s3(bucket=bucket, key=test_file_name)\n",
    "\n",
    "data_train = pd.read_csv(train_file_name)\n",
    "data_test = pd.read_csv(test_file_name)"
   ]
  },
  {
   "cell_type": "markdown",
   "id": "106cce7b",
   "metadata": {},
   "source": [
    "Created some lists to be used later on. Note that this lists are stored and used in **config.yml** in the root directory (houses_regression).\n",
    "\n",
    "- **So what is the Configuration file?**\n",
    "\n",
    "Definition from Wikipedia “In computing, configuration files (or config files) are files used to configure the parameters and initial settings for some computer programs. They are used for user applications, server processes, and operating system settings.”\n",
    "\n",
    "This means you can use a configuration file in your machine learning project. By doing so it will help you to run your project with flexibility and manage your system source code easily e.g when running different machine learning experiments.\n",
    "\n",
    "**Extreme Important Reading:** https://medium.com/analytics-vidhya/how-to-write-configuration-files-in-your-machine-learning-project-47bc840acc19"
   ]
  },
  {
   "cell_type": "code",
   "execution_count": 4,
   "id": "3d3bfa03",
   "metadata": {},
   "outputs": [],
   "source": [
    "selected_features = [\n",
    "    \"HouseStyle\",\n",
    "    \"BsmtFinType1\",\n",
    "    \"TotalBsmtSF\",\n",
    "    \"GarageArea\",\n",
    "    \"LotFrontage\",\n",
    "    \"SalePrice\"\n",
    "]\n",
    "\n",
    "numeric_features = [\n",
    "    \"TotalBsmtSF\",\n",
    "    \"GarageArea\",\n",
    "    \"LotFrontage\"\n",
    "]\n",
    "\n",
    "scaled_features = [\n",
    "    \"ScaledTotalBsmtSF\",\n",
    "    \"ScaledGarageArea\",\n",
    "    \"ScaledLotFrontage\"\n",
    "]\n",
    "\n",
    "to_drop_unused_features = [\n",
    "    \"HouseStyle\",\n",
    "    \"BsmtFinType1\",\n",
    "    \"NewHouseStyle\"\n",
    "    \n",
    "]"
   ]
  },
  {
   "cell_type": "markdown",
   "id": "1b759f03",
   "metadata": {},
   "source": [
    "As this is a simple example, we filtered the initial dataset arbitrarily. We want to do some understandable data wrangling to be reproducible in code later on. For this very reason, a few variables were selected."
   ]
  },
  {
   "cell_type": "code",
   "execution_count": 5,
   "id": "adbc8086",
   "metadata": {},
   "outputs": [
    {
     "data": {
      "text/html": [
       "<div>\n",
       "<style scoped>\n",
       "    .dataframe tbody tr th:only-of-type {\n",
       "        vertical-align: middle;\n",
       "    }\n",
       "\n",
       "    .dataframe tbody tr th {\n",
       "        vertical-align: top;\n",
       "    }\n",
       "\n",
       "    .dataframe thead th {\n",
       "        text-align: right;\n",
       "    }\n",
       "</style>\n",
       "<table border=\"1\" class=\"dataframe\">\n",
       "  <thead>\n",
       "    <tr style=\"text-align: right;\">\n",
       "      <th></th>\n",
       "      <th>HouseStyle</th>\n",
       "      <th>BsmtFinType1</th>\n",
       "      <th>TotalBsmtSF</th>\n",
       "      <th>GarageArea</th>\n",
       "      <th>LotFrontage</th>\n",
       "      <th>SalePrice</th>\n",
       "    </tr>\n",
       "  </thead>\n",
       "  <tbody>\n",
       "    <tr>\n",
       "      <th>0</th>\n",
       "      <td>2Story</td>\n",
       "      <td>GLQ</td>\n",
       "      <td>856</td>\n",
       "      <td>548</td>\n",
       "      <td>65.0</td>\n",
       "      <td>208500</td>\n",
       "    </tr>\n",
       "    <tr>\n",
       "      <th>1</th>\n",
       "      <td>1Story</td>\n",
       "      <td>ALQ</td>\n",
       "      <td>1262</td>\n",
       "      <td>460</td>\n",
       "      <td>80.0</td>\n",
       "      <td>181500</td>\n",
       "    </tr>\n",
       "    <tr>\n",
       "      <th>2</th>\n",
       "      <td>2Story</td>\n",
       "      <td>GLQ</td>\n",
       "      <td>920</td>\n",
       "      <td>608</td>\n",
       "      <td>68.0</td>\n",
       "      <td>223500</td>\n",
       "    </tr>\n",
       "    <tr>\n",
       "      <th>3</th>\n",
       "      <td>2Story</td>\n",
       "      <td>ALQ</td>\n",
       "      <td>756</td>\n",
       "      <td>642</td>\n",
       "      <td>60.0</td>\n",
       "      <td>140000</td>\n",
       "    </tr>\n",
       "    <tr>\n",
       "      <th>4</th>\n",
       "      <td>2Story</td>\n",
       "      <td>GLQ</td>\n",
       "      <td>1145</td>\n",
       "      <td>836</td>\n",
       "      <td>84.0</td>\n",
       "      <td>250000</td>\n",
       "    </tr>\n",
       "    <tr>\n",
       "      <th>...</th>\n",
       "      <td>...</td>\n",
       "      <td>...</td>\n",
       "      <td>...</td>\n",
       "      <td>...</td>\n",
       "      <td>...</td>\n",
       "      <td>...</td>\n",
       "    </tr>\n",
       "    <tr>\n",
       "      <th>1455</th>\n",
       "      <td>2Story</td>\n",
       "      <td>Unf</td>\n",
       "      <td>953</td>\n",
       "      <td>460</td>\n",
       "      <td>62.0</td>\n",
       "      <td>175000</td>\n",
       "    </tr>\n",
       "    <tr>\n",
       "      <th>1456</th>\n",
       "      <td>1Story</td>\n",
       "      <td>ALQ</td>\n",
       "      <td>1542</td>\n",
       "      <td>500</td>\n",
       "      <td>85.0</td>\n",
       "      <td>210000</td>\n",
       "    </tr>\n",
       "    <tr>\n",
       "      <th>1457</th>\n",
       "      <td>2Story</td>\n",
       "      <td>GLQ</td>\n",
       "      <td>1152</td>\n",
       "      <td>252</td>\n",
       "      <td>66.0</td>\n",
       "      <td>266500</td>\n",
       "    </tr>\n",
       "    <tr>\n",
       "      <th>1458</th>\n",
       "      <td>1Story</td>\n",
       "      <td>GLQ</td>\n",
       "      <td>1078</td>\n",
       "      <td>240</td>\n",
       "      <td>68.0</td>\n",
       "      <td>142125</td>\n",
       "    </tr>\n",
       "    <tr>\n",
       "      <th>1459</th>\n",
       "      <td>1Story</td>\n",
       "      <td>BLQ</td>\n",
       "      <td>1256</td>\n",
       "      <td>276</td>\n",
       "      <td>75.0</td>\n",
       "      <td>147500</td>\n",
       "    </tr>\n",
       "  </tbody>\n",
       "</table>\n",
       "<p>1460 rows × 6 columns</p>\n",
       "</div>"
      ],
      "text/plain": [
       "     HouseStyle BsmtFinType1  TotalBsmtSF  GarageArea  LotFrontage  SalePrice\n",
       "0        2Story          GLQ          856         548         65.0     208500\n",
       "1        1Story          ALQ         1262         460         80.0     181500\n",
       "2        2Story          GLQ          920         608         68.0     223500\n",
       "3        2Story          ALQ          756         642         60.0     140000\n",
       "4        2Story          GLQ         1145         836         84.0     250000\n",
       "...         ...          ...          ...         ...          ...        ...\n",
       "1455     2Story          Unf          953         460         62.0     175000\n",
       "1456     1Story          ALQ         1542         500         85.0     210000\n",
       "1457     2Story          GLQ         1152         252         66.0     266500\n",
       "1458     1Story          GLQ         1078         240         68.0     142125\n",
       "1459     1Story          BLQ         1256         276         75.0     147500\n",
       "\n",
       "[1460 rows x 6 columns]"
      ]
     },
     "execution_count": 5,
     "metadata": {},
     "output_type": "execute_result"
    }
   ],
   "source": [
    "data_train = data_train[selected_features]; data_train"
   ]
  },
  {
   "cell_type": "markdown",
   "id": "4949e495",
   "metadata": {},
   "source": [
    "##### HouseStyle Variable\n",
    "The first feat. engineering is here. Since houses with 1 and 2 stories are prominent here in proportion, we shall recode the feature to classify as \"Other\" the classes which aren't the ones cited before."
   ]
  },
  {
   "cell_type": "code",
   "execution_count": 6,
   "id": "5bf75ac4",
   "metadata": {},
   "outputs": [
    {
     "data": {
      "text/plain": [
       "1Story    726\n",
       "2Story    445\n",
       "1.5Fin    154\n",
       "SLvl       65\n",
       "SFoyer     37\n",
       "1.5Unf     14\n",
       "2.5Unf     11\n",
       "2.5Fin      8\n",
       "Name: HouseStyle, dtype: int64"
      ]
     },
     "execution_count": 6,
     "metadata": {},
     "output_type": "execute_result"
    }
   ],
   "source": [
    "data_train[\"HouseStyle\"].value_counts()"
   ]
  },
  {
   "cell_type": "code",
   "execution_count": 7,
   "id": "53a3f9fa",
   "metadata": {},
   "outputs": [],
   "source": [
    "data_train[\"NewHouseStyle\"] = np.where(\n",
    "    (data_train[\"HouseStyle\"]!=\"1Story\") & (data_train[\"HouseStyle\"]!=\"2Story\"), \n",
    "    \"Other\", \n",
    "    data_train[\"HouseStyle\"]\n",
    "    )"
   ]
  },
  {
   "cell_type": "markdown",
   "id": "8e453bb7",
   "metadata": {},
   "source": [
    "###### Inputing Missing Values\n",
    "\n",
    "A simple missing value inputting. The categorical shall receive it's own mode and the numerical, it's median."
   ]
  },
  {
   "cell_type": "code",
   "execution_count": 8,
   "id": "d3844f90",
   "metadata": {},
   "outputs": [],
   "source": [
    "# Missing Values\n",
    "data_train[\"BsmtFinType1\"] = data_train[\"BsmtFinType1\"].fillna(data_train[\"BsmtFinType1\"].mode().values[0]) # Mode\n",
    "data_train[\"LotFrontage\"] = data_train[\"LotFrontage\"].fillna(data_train[\"LotFrontage\"].median()) # Median"
   ]
  },
  {
   "cell_type": "markdown",
   "id": "dcb89703",
   "metadata": {},
   "source": [
    "##### Standard Scaler\n",
    "\n",
    "We apply the Standard Scaler method to reduce variability and the scale of numerical variables.\n",
    "After that, we create a dataframe with scaled variables to be merged a few steps ahead."
   ]
  },
  {
   "cell_type": "code",
   "execution_count": 9,
   "id": "79b2d292",
   "metadata": {},
   "outputs": [],
   "source": [
    "transformed_dataframe = StandardScaler().fit_transform(data_train[numeric_features])\n",
    "\n",
    "scaled_dataframe = pd.DataFrame(transformed_dataframe, columns=scaled_features)\n",
    "data_train = data_train.merge(scaled_dataframe, how=\"left\", left_index=True, right_index=True)"
   ]
  },
  {
   "cell_type": "markdown",
   "id": "13bd9374",
   "metadata": {},
   "source": [
    "##### One Hot Encoding\n",
    "\n",
    "Applying OHE and merging the resulting dataframes with the original one."
   ]
  },
  {
   "cell_type": "code",
   "execution_count": 10,
   "id": "d45da17f",
   "metadata": {},
   "outputs": [],
   "source": [
    "dummies_BsmtFinType1 = pd.get_dummies(data_train[\"BsmtFinType1\"])\n",
    "dummies_NewHouseStyle = pd.get_dummies(data_train[\"NewHouseStyle\"])\n",
    "\n",
    "data_train = pd.concat([dummies_BsmtFinType1, dummies_NewHouseStyle, data_train],axis=1)"
   ]
  },
  {
   "cell_type": "markdown",
   "id": "b5454905",
   "metadata": {},
   "source": [
    "**Visualizing the final dataframe**\n",
    "\n",
    "Dropping unused variables to generate the final dataframe."
   ]
  },
  {
   "cell_type": "code",
   "execution_count": 11,
   "id": "77d44e27",
   "metadata": {},
   "outputs": [
    {
     "data": {
      "text/html": [
       "<div>\n",
       "<style scoped>\n",
       "    .dataframe tbody tr th:only-of-type {\n",
       "        vertical-align: middle;\n",
       "    }\n",
       "\n",
       "    .dataframe tbody tr th {\n",
       "        vertical-align: top;\n",
       "    }\n",
       "\n",
       "    .dataframe thead th {\n",
       "        text-align: right;\n",
       "    }\n",
       "</style>\n",
       "<table border=\"1\" class=\"dataframe\">\n",
       "  <thead>\n",
       "    <tr style=\"text-align: right;\">\n",
       "      <th></th>\n",
       "      <th>ALQ</th>\n",
       "      <th>BLQ</th>\n",
       "      <th>GLQ</th>\n",
       "      <th>LwQ</th>\n",
       "      <th>Rec</th>\n",
       "      <th>Unf</th>\n",
       "      <th>1Story</th>\n",
       "      <th>2Story</th>\n",
       "      <th>Other</th>\n",
       "      <th>SalePrice</th>\n",
       "      <th>ScaledTotalBsmtSF</th>\n",
       "      <th>ScaledGarageArea</th>\n",
       "      <th>ScaledLotFrontage</th>\n",
       "    </tr>\n",
       "  </thead>\n",
       "  <tbody>\n",
       "    <tr>\n",
       "      <th>0</th>\n",
       "      <td>0</td>\n",
       "      <td>0</td>\n",
       "      <td>1</td>\n",
       "      <td>0</td>\n",
       "      <td>0</td>\n",
       "      <td>0</td>\n",
       "      <td>0</td>\n",
       "      <td>1</td>\n",
       "      <td>0</td>\n",
       "      <td>208500</td>\n",
       "      <td>-0.459303</td>\n",
       "      <td>0.351000</td>\n",
       "      <td>-0.220875</td>\n",
       "    </tr>\n",
       "    <tr>\n",
       "      <th>1</th>\n",
       "      <td>1</td>\n",
       "      <td>0</td>\n",
       "      <td>0</td>\n",
       "      <td>0</td>\n",
       "      <td>0</td>\n",
       "      <td>0</td>\n",
       "      <td>1</td>\n",
       "      <td>0</td>\n",
       "      <td>0</td>\n",
       "      <td>181500</td>\n",
       "      <td>0.466465</td>\n",
       "      <td>-0.060731</td>\n",
       "      <td>0.460320</td>\n",
       "    </tr>\n",
       "    <tr>\n",
       "      <th>2</th>\n",
       "      <td>0</td>\n",
       "      <td>0</td>\n",
       "      <td>1</td>\n",
       "      <td>0</td>\n",
       "      <td>0</td>\n",
       "      <td>0</td>\n",
       "      <td>0</td>\n",
       "      <td>1</td>\n",
       "      <td>0</td>\n",
       "      <td>223500</td>\n",
       "      <td>-0.313369</td>\n",
       "      <td>0.631726</td>\n",
       "      <td>-0.084636</td>\n",
       "    </tr>\n",
       "    <tr>\n",
       "      <th>3</th>\n",
       "      <td>1</td>\n",
       "      <td>0</td>\n",
       "      <td>0</td>\n",
       "      <td>0</td>\n",
       "      <td>0</td>\n",
       "      <td>0</td>\n",
       "      <td>0</td>\n",
       "      <td>1</td>\n",
       "      <td>0</td>\n",
       "      <td>140000</td>\n",
       "      <td>-0.687324</td>\n",
       "      <td>0.790804</td>\n",
       "      <td>-0.447940</td>\n",
       "    </tr>\n",
       "    <tr>\n",
       "      <th>4</th>\n",
       "      <td>0</td>\n",
       "      <td>0</td>\n",
       "      <td>1</td>\n",
       "      <td>0</td>\n",
       "      <td>0</td>\n",
       "      <td>0</td>\n",
       "      <td>0</td>\n",
       "      <td>1</td>\n",
       "      <td>0</td>\n",
       "      <td>250000</td>\n",
       "      <td>0.199680</td>\n",
       "      <td>1.698485</td>\n",
       "      <td>0.641972</td>\n",
       "    </tr>\n",
       "    <tr>\n",
       "      <th>...</th>\n",
       "      <td>...</td>\n",
       "      <td>...</td>\n",
       "      <td>...</td>\n",
       "      <td>...</td>\n",
       "      <td>...</td>\n",
       "      <td>...</td>\n",
       "      <td>...</td>\n",
       "      <td>...</td>\n",
       "      <td>...</td>\n",
       "      <td>...</td>\n",
       "      <td>...</td>\n",
       "      <td>...</td>\n",
       "      <td>...</td>\n",
       "    </tr>\n",
       "    <tr>\n",
       "      <th>1455</th>\n",
       "      <td>0</td>\n",
       "      <td>0</td>\n",
       "      <td>0</td>\n",
       "      <td>0</td>\n",
       "      <td>0</td>\n",
       "      <td>1</td>\n",
       "      <td>0</td>\n",
       "      <td>1</td>\n",
       "      <td>0</td>\n",
       "      <td>175000</td>\n",
       "      <td>-0.238122</td>\n",
       "      <td>-0.060731</td>\n",
       "      <td>-0.357114</td>\n",
       "    </tr>\n",
       "    <tr>\n",
       "      <th>1456</th>\n",
       "      <td>1</td>\n",
       "      <td>0</td>\n",
       "      <td>0</td>\n",
       "      <td>0</td>\n",
       "      <td>0</td>\n",
       "      <td>0</td>\n",
       "      <td>1</td>\n",
       "      <td>0</td>\n",
       "      <td>0</td>\n",
       "      <td>210000</td>\n",
       "      <td>1.104925</td>\n",
       "      <td>0.126420</td>\n",
       "      <td>0.687385</td>\n",
       "    </tr>\n",
       "    <tr>\n",
       "      <th>1457</th>\n",
       "      <td>0</td>\n",
       "      <td>0</td>\n",
       "      <td>1</td>\n",
       "      <td>0</td>\n",
       "      <td>0</td>\n",
       "      <td>0</td>\n",
       "      <td>0</td>\n",
       "      <td>1</td>\n",
       "      <td>0</td>\n",
       "      <td>266500</td>\n",
       "      <td>0.215641</td>\n",
       "      <td>-1.033914</td>\n",
       "      <td>-0.175462</td>\n",
       "    </tr>\n",
       "    <tr>\n",
       "      <th>1458</th>\n",
       "      <td>0</td>\n",
       "      <td>0</td>\n",
       "      <td>1</td>\n",
       "      <td>0</td>\n",
       "      <td>0</td>\n",
       "      <td>0</td>\n",
       "      <td>1</td>\n",
       "      <td>0</td>\n",
       "      <td>0</td>\n",
       "      <td>142125</td>\n",
       "      <td>0.046905</td>\n",
       "      <td>-1.090059</td>\n",
       "      <td>-0.084636</td>\n",
       "    </tr>\n",
       "    <tr>\n",
       "      <th>1459</th>\n",
       "      <td>0</td>\n",
       "      <td>1</td>\n",
       "      <td>0</td>\n",
       "      <td>0</td>\n",
       "      <td>0</td>\n",
       "      <td>0</td>\n",
       "      <td>1</td>\n",
       "      <td>0</td>\n",
       "      <td>0</td>\n",
       "      <td>147500</td>\n",
       "      <td>0.452784</td>\n",
       "      <td>-0.921624</td>\n",
       "      <td>0.233255</td>\n",
       "    </tr>\n",
       "  </tbody>\n",
       "</table>\n",
       "<p>1460 rows × 13 columns</p>\n",
       "</div>"
      ],
      "text/plain": [
       "      ALQ  BLQ  GLQ  LwQ  Rec  Unf  1Story  2Story  Other  SalePrice  \\\n",
       "0       0    0    1    0    0    0       0       1      0     208500   \n",
       "1       1    0    0    0    0    0       1       0      0     181500   \n",
       "2       0    0    1    0    0    0       0       1      0     223500   \n",
       "3       1    0    0    0    0    0       0       1      0     140000   \n",
       "4       0    0    1    0    0    0       0       1      0     250000   \n",
       "...   ...  ...  ...  ...  ...  ...     ...     ...    ...        ...   \n",
       "1455    0    0    0    0    0    1       0       1      0     175000   \n",
       "1456    1    0    0    0    0    0       1       0      0     210000   \n",
       "1457    0    0    1    0    0    0       0       1      0     266500   \n",
       "1458    0    0    1    0    0    0       1       0      0     142125   \n",
       "1459    0    1    0    0    0    0       1       0      0     147500   \n",
       "\n",
       "      ScaledTotalBsmtSF  ScaledGarageArea  ScaledLotFrontage  \n",
       "0             -0.459303          0.351000          -0.220875  \n",
       "1              0.466465         -0.060731           0.460320  \n",
       "2             -0.313369          0.631726          -0.084636  \n",
       "3             -0.687324          0.790804          -0.447940  \n",
       "4              0.199680          1.698485           0.641972  \n",
       "...                 ...               ...                ...  \n",
       "1455          -0.238122         -0.060731          -0.357114  \n",
       "1456           1.104925          0.126420           0.687385  \n",
       "1457           0.215641         -1.033914          -0.175462  \n",
       "1458           0.046905         -1.090059          -0.084636  \n",
       "1459           0.452784         -0.921624           0.233255  \n",
       "\n",
       "[1460 rows x 13 columns]"
      ]
     },
     "execution_count": 11,
     "metadata": {},
     "output_type": "execute_result"
    }
   ],
   "source": [
    "data_train = data_train.drop(to_drop_unused_features + numeric_features, axis=1); data_train"
   ]
  },
  {
   "cell_type": "markdown",
   "id": "0b7463a6",
   "metadata": {},
   "source": [
    "#### 3.4 Model Stage\n",
    "\n",
    "The usual model stage to build a model and calculate it's metrics."
   ]
  },
  {
   "cell_type": "code",
   "execution_count": 12,
   "id": "09ad85d7",
   "metadata": {},
   "outputs": [],
   "source": [
    "X = data_train.drop(\"SalePrice\", axis=1)\n",
    "y = data_train[\"SalePrice\"]"
   ]
  },
  {
   "cell_type": "markdown",
   "id": "b285d26b",
   "metadata": {},
   "source": [
    "## **Important Reminder**\n",
    "\n",
    "As cited in **3.3**, all constant variables MUST BE PASSED in the **config.yml**. SET a random state, test size and model configuration are **ESSENTIAL** for reproducibility."
   ]
  },
  {
   "cell_type": "code",
   "execution_count": 13,
   "id": "1d2cf927",
   "metadata": {},
   "outputs": [],
   "source": [
    "X_train, X_test, y_train, y_test = train_test_split(\n",
    "    X, y, test_size=0.25, random_state=16)"
   ]
  },
  {
   "cell_type": "code",
   "execution_count": 14,
   "id": "5d4f82ee",
   "metadata": {},
   "outputs": [],
   "source": [
    "model = RandomForestRegressor(n_estimators=400, random_state=16)"
   ]
  },
  {
   "cell_type": "code",
   "execution_count": 15,
   "id": "5ed23d0f",
   "metadata": {},
   "outputs": [
    {
     "data": {
      "text/plain": [
       "RandomForestRegressor(n_estimators=400, random_state=16)"
      ]
     },
     "execution_count": 15,
     "metadata": {},
     "output_type": "execute_result"
    }
   ],
   "source": [
    "model.fit(X_train, y_train)"
   ]
  },
  {
   "cell_type": "code",
   "execution_count": 16,
   "id": "5d06b05a",
   "metadata": {},
   "outputs": [],
   "source": [
    "y_pred = model.predict(X_test)"
   ]
  },
  {
   "cell_type": "code",
   "execution_count": 17,
   "id": "5ca69566",
   "metadata": {},
   "outputs": [
    {
     "name": "stdout",
     "output_type": "stream",
     "text": [
      "Mean Absolute Error    : 28226.457319940255\n",
      "Mean Squared Error     : 2508871365.6197877\n",
      "Root Mean Squared Error: 50088.63509439828\n",
      "R2: 0.6190291165551294\n"
     ]
    }
   ],
   "source": [
    "mae = metrics.mean_absolute_error(y_test, y_pred)\n",
    "mse = metrics.mean_squared_error(y_test, y_pred)\n",
    "rmse = np.sqrt(mse)\n",
    "r2 = metrics.r2_score(y_test, y_pred)\n",
    "\n",
    "print(\"Mean Absolute Error    :\", mae)\n",
    "print(\"Mean Squared Error     :\", mse)\n",
    "print(\"Root Mean Squared Error:\", rmse)\n",
    "print(\"R2:\", r2)"
   ]
  },
  {
   "cell_type": "code",
   "execution_count": null,
   "id": "2e92bbff",
   "metadata": {},
   "outputs": [],
   "source": []
  }
 ],
 "metadata": {
  "kernelspec": {
   "display_name": "project_template",
   "language": "python",
   "name": "project_template"
  },
  "language_info": {
   "codemirror_mode": {
    "name": "ipython",
    "version": 3
   },
   "file_extension": ".py",
   "mimetype": "text/x-python",
   "name": "python",
   "nbconvert_exporter": "python",
   "pygments_lexer": "ipython3",
   "version": "3.8.10"
  }
 },
 "nbformat": 4,
 "nbformat_minor": 5
}
